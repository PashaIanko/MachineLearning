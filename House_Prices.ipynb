{
  "nbformat": 4,
  "nbformat_minor": 0,
  "metadata": {
    "colab": {
      "name": "House_Prices.ipynb",
      "provenance": [],
      "collapsed_sections": [],
      "authorship_tag": "ABX9TyOCgUY8MTUbMe2u9ZMDrYCq"
    },
    "kernelspec": {
      "name": "python3",
      "display_name": "Python 3"
    }
  },
  "cells": [
    {
      "cell_type": "code",
      "metadata": {
        "id": "gkfMij-wD5k-"
      },
      "source": [
        "from pydrive.auth import GoogleAuth\n",
        "from pydrive.drive import GoogleDrive\n",
        "from google.colab import auth\n",
        "from oauth2client.client import GoogleCredentials\n",
        "\n",
        "import pandas as pd\n",
        "import seaborn as sns\n",
        "import numpy as np\n",
        "from sklearn.preprocessing import LabelEncoder\n",
        "from sklearn.preprocessing import StandardScaler\n",
        "from sklearn.model_selection import train_test_split\n",
        "from sklearn.ensemble import RandomForestRegressor\n",
        "from sklearn.model_selection import GridSearchCV\n",
        "from sklearn.metrics import make_scorer\n",
        "from sklearn.ensemble import AdaBoostRegressor\n",
        "\n",
        "from xgboost import XGBRegressor\n",
        "%matplotlib inline "
      ],
      "execution_count": 69,
      "outputs": []
    },
    {
      "cell_type": "code",
      "metadata": {
        "id": "7yiACJCFZ7_q"
      },
      "source": [
        "# There are some Nan values -> substitute them\n",
        "def detect_NANs(df):\n",
        "  # detect features with NAN values in a data frame\n",
        "  features = list(df)\n",
        "  NAN_features = []\n",
        "  for feature in features:\n",
        "    has_NAN = df[[feature]].isna().values.any()\n",
        "    if has_NAN:\n",
        "      NAN_features.append(feature)\n",
        "  return NAN_features\n",
        "\n",
        "def detect_numeric_categorical_NANs(df, NAN_features):\n",
        "  categoricals = []\n",
        "  numericals = []\n",
        "  for feature in NAN_features:\n",
        "    if df[feature].dtype == 'object':\n",
        "      categoricals.append(feature)\n",
        "    else:\n",
        "      numericals.append(feature)\n",
        "  return [numericals, categoricals]\n",
        "\n",
        "\n",
        "def fill_numeric_NANs(df, features, mean_fill):\n",
        "  for f in features:\n",
        "    if mean_fill:\n",
        "      df[f].fillna(df[f].mean(), inplace=True)\n",
        "\n",
        "def fill_categorical_NANs(df, features, fill_value):\n",
        "  for f in features:\n",
        "    df[f].fillna(fill_value, inplace=True)\n",
        "\n",
        "def sift_NANs(df, ordinal_mean_fill, categorical_fill_value):\n",
        "  print(f'------------NAN processing----------------\\n')\n",
        "  NAN_features = detect_NANs(df)\n",
        "  NAN_features_numeric, NAN_features_categorical = detect_numeric_categorical_NANs(df, NAN_features)\n",
        "  print(f'{len(NAN_features_numeric)} numeric features with NAN:\\n{NAN_features_numeric}\\n\\n',\n",
        "      f'{len(NAN_features_categorical)} categorical features with NAN:\\n {NAN_features_categorical}\\n')\n",
        "  \n",
        "  # Step 2: Eliminate NAN values\n",
        "  fill_numeric_NANs(df, NAN_features_numeric, ordinal_mean_fill)\n",
        "  fill_categorical_NANs(df, NAN_features_categorical, categorical_fill_value)\n",
        "\n",
        "  NAN_features = detect_NANs(df)\n",
        "  print(f'After processing remain {len(NAN_features)} NAN values\\n',\n",
        "        f'------------------------------------------------------')\n",
        "  return\n",
        "\n",
        "def get_categorical_features(df, features):\n",
        "  categoricals = []\n",
        "  for feature in features:\n",
        "    if df[feature].dtype == 'object':\n",
        "      categoricals.append(feature)\n",
        "  return categoricals\n",
        "\n",
        "def encode_categoricals(df, categorical_features):\n",
        "  encoder = LabelEncoder()\n",
        "  for feature in categorical_features:\n",
        "    df[feature] = encoder.fit_transform(df[feature].values)\n",
        "\n",
        "\n",
        "  \n",
        "def drop_minor_features(df, features_to_drop):\n",
        "  df_features = df.columns\n",
        "  for f in features_to_drop:\n",
        "    if f in df_features:\n",
        "      df.drop(f, axis=1, inplace=True)\n",
        "  \n",
        "def get_insignificant_features(df_correlation, corr_threshold, corr_feature):\n",
        "  correlations = df_correlation[corr_feature]\n",
        "  res = []\n",
        "  for feature in correlations.index:\n",
        "    if abs(correlations[feature]) < corr_threshold:\n",
        "      res.append(feature)\n",
        "  return res\n",
        "\n",
        "def check_if_features_remained(df_features, features_to_check):\n",
        "  if any(f in df_features for f in features_to_check):\n",
        "    return True\n",
        "  return False"
      ],
      "execution_count": 3,
      "outputs": []
    },
    {
      "cell_type": "code",
      "metadata": {
        "id": "aVM8MntZQs8I"
      },
      "source": [
        "def prepare_dataset(df, \n",
        "                     corr_threshold,\n",
        "                     categorical_fill_value='None',\n",
        "                     ordinal_mean_fill=True, \n",
        "                     features_to_drop=None):\n",
        "  print(f'-------------------------------------------------\\n')\n",
        "\n",
        "  print(f'STEP1: Look at initial features:\\n')\n",
        "  print(df.info())\n",
        "  \n",
        "  print(f'-------------------------------------------------\\n')\n",
        "  \n",
        "  print(f'STEP3: SIFT NAN VALUES')\n",
        "  sift_NANs(df, ordinal_mean_fill=True, categorical_fill_value='None')\n",
        "\n",
        "  print(f'-------------------------------------------------\\n')\n",
        "\n",
        "  print(f'STEP4: ALL CATEGORICAL TO ORDINAL ENCODE\\n')\n",
        "  categorical_features = get_categorical_features(df, list(df))\n",
        "  print(f'{len(categorical_features)} categorical features, \\n{categorical_features}\\n')\n",
        "  encode_categoricals(df, categorical_features)\n",
        "  categorical_features_after = get_categorical_features(df, list(df))\n",
        "  print(f'AFTER ENCODING: {len(categorical_features_after)} categorical features, \\n{categorical_features_after}')\n",
        "\n",
        "  print(f'-------------------------------------------------\\n')\n",
        "\n",
        "  print(f'STEP5: HEATMAP TO IDENTIFY LESS SIGNIFICANT FEATURES')\n",
        "  df_correlation = df_train.corr()\n",
        "  sns.heatmap(df_correlation)\n",
        "\n",
        "  print(f'-------------------------------------------------\\n')\n",
        "\n",
        "  print(f'STEP6: REMOVE INSIGNIFICANT FEATURES')\n",
        "\n",
        "  if features_to_drop is None:\n",
        "    features_to_drop = get_insignificant_features(df_correlation, corr_threshold, \n",
        "                                              corr_feature='SalePrice')\n",
        "    print(f'{len(features_to_drop)} insignificant features, for level={corr_threshold}\\n',\n",
        "        f'features_to_drop = {features_to_drop}')\n",
        "  drop_minor_features(df, features_to_drop)\n",
        "\n",
        "  print(f'-------------------------------------------------\\n')\n",
        "\n",
        "  print(f'STEP7: MAKE SURE NO INSIGNIFICANT FEATURE IS IN DATASET')\n",
        "  features = df.columns\n",
        "  check = check_if_features_remained(features, features_to_drop) \n",
        "  print(f'If any insignif. features remained? --> {check}')\n",
        "\n",
        "  print(f'-------------------------------------------------\\n')\n",
        "\n",
        "  print(f'STEP8: Your dataset after processing:')\n",
        "  print(df.info())\n",
        "\n",
        "  print(f'-----------------------END-----------------------\\n')\n",
        "  return features_to_drop\n",
        "\n",
        "\n",
        "def calc_metrics(answers, predictions):\n",
        "  squares_sum = 0\n",
        "  for answer, prediction in zip(answers, predictions):\n",
        "    squares_sum += ((np.log(answer) - np.log(prediction)))**2\n",
        "  return (squares_sum / (len(answers))) ** (1/2)\n",
        "\n",
        "\n",
        "\n",
        "def perform_grid_search(\n",
        "    regressor_name,\n",
        "    param_grid,\n",
        "    scoring,\n",
        "    x_train, y_train,\n",
        "    x_test, y_test,\n",
        "    **grid_search_cv_params):\n",
        "  \n",
        "  regressor = regressors[regressor_name]\n",
        "  print(type(regressor))\n",
        "  print(f'--------------performing grid search--------------\\n')\n",
        "  clf = GridSearchCV(regressor, param_grid, scoring, **grid_search_cv_params)\n",
        "  clf.fit(x_train, y_train)\n",
        "  print(f'--------------finished grid search---------------\\n\\n')\n",
        "\n",
        "  print(f'--------------------------------------------')\n",
        "  print(f'The best params are: {clf.best_params_}\\n')\n",
        "  print(f'lets calculate test metrics\\n')\n",
        "  predictions = clf.predict(x_test)\n",
        "  print(f'The test metrics: {calc_metrics(predictions, y_test)}\\n')\n",
        "  print(f'---------------------END---------------------------\\n\\n')"
      ],
      "execution_count": 105,
      "outputs": []
    },
    {
      "cell_type": "code",
      "metadata": {
        "id": "jigSGfRSECVm"
      },
      "source": [
        "auth.authenticate_user()\n",
        "gauth = GoogleAuth()\n",
        "gauth.credentials = GoogleCredentials.get_application_default()\n",
        "drive = GoogleDrive(gauth)"
      ],
      "execution_count": 5,
      "outputs": []
    },
    {
      "cell_type": "code",
      "metadata": {
        "id": "BkEoJPGHEH7k"
      },
      "source": [
        "downloaded_test = drive.CreateFile({'id':\"1hFI_R74GXe0I6sh8AeCacyAritHN9GUT\"})   \n",
        "downloaded_test.GetContentFile('test.csv')\n",
        "\n",
        "downloaded_train = drive.CreateFile({'id':\"1fYsLA8QtArP_HSlraZU4x0a5IQnRNeN0\"})   \n",
        "downloaded_train.GetContentFile('train.csv')"
      ],
      "execution_count": 6,
      "outputs": []
    },
    {
      "cell_type": "code",
      "metadata": {
        "id": "hotgLyN4Ghzx"
      },
      "source": [
        "df_train = pd.read_csv('train.csv')\n",
        "df_test = pd.read_csv('test.csv')"
      ],
      "execution_count": 106,
      "outputs": []
    },
    {
      "cell_type": "code",
      "metadata": {
        "id": "qVpLJYmuH3c5",
        "outputId": "30c39780-81b0-4008-c7c8-0f07d518920b",
        "colab": {
          "base_uri": "https://localhost:8080/"
        }
      },
      "source": [
        "df_train.shape, df_test.shape\n"
      ],
      "execution_count": 16,
      "outputs": [
        {
          "output_type": "execute_result",
          "data": {
            "text/plain": [
              "((1460, 40), (1459, 80))"
            ]
          },
          "metadata": {
            "tags": []
          },
          "execution_count": 16
        }
      ]
    },
    {
      "cell_type": "code",
      "metadata": {
        "id": "RhbdJN70IMwy",
        "outputId": "ae7a8b50-94b7-4400-df2a-afe7023f42c2",
        "colab": {
          "base_uri": "https://localhost:8080/"
        }
      },
      "source": [
        "df_test.columns"
      ],
      "execution_count": 17,
      "outputs": [
        {
          "output_type": "execute_result",
          "data": {
            "text/plain": [
              "Index(['Id', 'MSSubClass', 'MSZoning', 'LotFrontage', 'LotArea', 'Street',\n",
              "       'Alley', 'LotShape', 'LandContour', 'Utilities', 'LotConfig',\n",
              "       'LandSlope', 'Neighborhood', 'Condition1', 'Condition2', 'BldgType',\n",
              "       'HouseStyle', 'OverallQual', 'OverallCond', 'YearBuilt', 'YearRemodAdd',\n",
              "       'RoofStyle', 'RoofMatl', 'Exterior1st', 'Exterior2nd', 'MasVnrType',\n",
              "       'MasVnrArea', 'ExterQual', 'ExterCond', 'Foundation', 'BsmtQual',\n",
              "       'BsmtCond', 'BsmtExposure', 'BsmtFinType1', 'BsmtFinSF1',\n",
              "       'BsmtFinType2', 'BsmtFinSF2', 'BsmtUnfSF', 'TotalBsmtSF', 'Heating',\n",
              "       'HeatingQC', 'CentralAir', 'Electrical', '1stFlrSF', '2ndFlrSF',\n",
              "       'LowQualFinSF', 'GrLivArea', 'BsmtFullBath', 'BsmtHalfBath', 'FullBath',\n",
              "       'HalfBath', 'BedroomAbvGr', 'KitchenAbvGr', 'KitchenQual',\n",
              "       'TotRmsAbvGrd', 'Functional', 'Fireplaces', 'FireplaceQu', 'GarageType',\n",
              "       'GarageYrBlt', 'GarageFinish', 'GarageCars', 'GarageArea', 'GarageQual',\n",
              "       'GarageCond', 'PavedDrive', 'WoodDeckSF', 'OpenPorchSF',\n",
              "       'EnclosedPorch', '3SsnPorch', 'ScreenPorch', 'PoolArea', 'PoolQC',\n",
              "       'Fence', 'MiscFeature', 'MiscVal', 'MoSold', 'YrSold', 'SaleType',\n",
              "       'SaleCondition'],\n",
              "      dtype='object')"
            ]
          },
          "metadata": {
            "tags": []
          },
          "execution_count": 17
        }
      ]
    },
    {
      "cell_type": "code",
      "metadata": {
        "id": "aCy2dnl0WdZK",
        "colab": {
          "base_uri": "https://localhost:8080/",
          "height": 1000
        },
        "outputId": "a8adcfce-ae82-4451-e1c0-a44ce44fba1a"
      },
      "source": [
        "dropped_features = prepare_dataset(df_train, \n",
        "                        corr_threshold=0.2)"
      ],
      "execution_count": 107,
      "outputs": [
        {
          "output_type": "stream",
          "text": [
            "-------------------------------------------------\n",
            "\n",
            "STEP1: Look at initial features:\n",
            "\n",
            "<class 'pandas.core.frame.DataFrame'>\n",
            "RangeIndex: 1460 entries, 0 to 1459\n",
            "Data columns (total 81 columns):\n",
            " #   Column         Non-Null Count  Dtype  \n",
            "---  ------         --------------  -----  \n",
            " 0   Id             1460 non-null   int64  \n",
            " 1   MSSubClass     1460 non-null   int64  \n",
            " 2   MSZoning       1460 non-null   object \n",
            " 3   LotFrontage    1201 non-null   float64\n",
            " 4   LotArea        1460 non-null   int64  \n",
            " 5   Street         1460 non-null   object \n",
            " 6   Alley          91 non-null     object \n",
            " 7   LotShape       1460 non-null   object \n",
            " 8   LandContour    1460 non-null   object \n",
            " 9   Utilities      1460 non-null   object \n",
            " 10  LotConfig      1460 non-null   object \n",
            " 11  LandSlope      1460 non-null   object \n",
            " 12  Neighborhood   1460 non-null   object \n",
            " 13  Condition1     1460 non-null   object \n",
            " 14  Condition2     1460 non-null   object \n",
            " 15  BldgType       1460 non-null   object \n",
            " 16  HouseStyle     1460 non-null   object \n",
            " 17  OverallQual    1460 non-null   int64  \n",
            " 18  OverallCond    1460 non-null   int64  \n",
            " 19  YearBuilt      1460 non-null   int64  \n",
            " 20  YearRemodAdd   1460 non-null   int64  \n",
            " 21  RoofStyle      1460 non-null   object \n",
            " 22  RoofMatl       1460 non-null   object \n",
            " 23  Exterior1st    1460 non-null   object \n",
            " 24  Exterior2nd    1460 non-null   object \n",
            " 25  MasVnrType     1452 non-null   object \n",
            " 26  MasVnrArea     1452 non-null   float64\n",
            " 27  ExterQual      1460 non-null   object \n",
            " 28  ExterCond      1460 non-null   object \n",
            " 29  Foundation     1460 non-null   object \n",
            " 30  BsmtQual       1423 non-null   object \n",
            " 31  BsmtCond       1423 non-null   object \n",
            " 32  BsmtExposure   1422 non-null   object \n",
            " 33  BsmtFinType1   1423 non-null   object \n",
            " 34  BsmtFinSF1     1460 non-null   int64  \n",
            " 35  BsmtFinType2   1422 non-null   object \n",
            " 36  BsmtFinSF2     1460 non-null   int64  \n",
            " 37  BsmtUnfSF      1460 non-null   int64  \n",
            " 38  TotalBsmtSF    1460 non-null   int64  \n",
            " 39  Heating        1460 non-null   object \n",
            " 40  HeatingQC      1460 non-null   object \n",
            " 41  CentralAir     1460 non-null   object \n",
            " 42  Electrical     1459 non-null   object \n",
            " 43  1stFlrSF       1460 non-null   int64  \n",
            " 44  2ndFlrSF       1460 non-null   int64  \n",
            " 45  LowQualFinSF   1460 non-null   int64  \n",
            " 46  GrLivArea      1460 non-null   int64  \n",
            " 47  BsmtFullBath   1460 non-null   int64  \n",
            " 48  BsmtHalfBath   1460 non-null   int64  \n",
            " 49  FullBath       1460 non-null   int64  \n",
            " 50  HalfBath       1460 non-null   int64  \n",
            " 51  BedroomAbvGr   1460 non-null   int64  \n",
            " 52  KitchenAbvGr   1460 non-null   int64  \n",
            " 53  KitchenQual    1460 non-null   object \n",
            " 54  TotRmsAbvGrd   1460 non-null   int64  \n",
            " 55  Functional     1460 non-null   object \n",
            " 56  Fireplaces     1460 non-null   int64  \n",
            " 57  FireplaceQu    770 non-null    object \n",
            " 58  GarageType     1379 non-null   object \n",
            " 59  GarageYrBlt    1379 non-null   float64\n",
            " 60  GarageFinish   1379 non-null   object \n",
            " 61  GarageCars     1460 non-null   int64  \n",
            " 62  GarageArea     1460 non-null   int64  \n",
            " 63  GarageQual     1379 non-null   object \n",
            " 64  GarageCond     1379 non-null   object \n",
            " 65  PavedDrive     1460 non-null   object \n",
            " 66  WoodDeckSF     1460 non-null   int64  \n",
            " 67  OpenPorchSF    1460 non-null   int64  \n",
            " 68  EnclosedPorch  1460 non-null   int64  \n",
            " 69  3SsnPorch      1460 non-null   int64  \n",
            " 70  ScreenPorch    1460 non-null   int64  \n",
            " 71  PoolArea       1460 non-null   int64  \n",
            " 72  PoolQC         7 non-null      object \n",
            " 73  Fence          281 non-null    object \n",
            " 74  MiscFeature    54 non-null     object \n",
            " 75  MiscVal        1460 non-null   int64  \n",
            " 76  MoSold         1460 non-null   int64  \n",
            " 77  YrSold         1460 non-null   int64  \n",
            " 78  SaleType       1460 non-null   object \n",
            " 79  SaleCondition  1460 non-null   object \n",
            " 80  SalePrice      1460 non-null   int64  \n",
            "dtypes: float64(3), int64(35), object(43)\n",
            "memory usage: 924.0+ KB\n",
            "None\n",
            "-------------------------------------------------\n",
            "\n",
            "STEP3: SIFT NAN VALUES\n",
            "------------NAN processing----------------\n",
            "\n",
            "3 numeric features with NAN:\n",
            "['LotFrontage', 'MasVnrArea', 'GarageYrBlt']\n",
            "\n",
            " 16 categorical features with NAN:\n",
            " ['Alley', 'MasVnrType', 'BsmtQual', 'BsmtCond', 'BsmtExposure', 'BsmtFinType1', 'BsmtFinType2', 'Electrical', 'FireplaceQu', 'GarageType', 'GarageFinish', 'GarageQual', 'GarageCond', 'PoolQC', 'Fence', 'MiscFeature']\n",
            "\n",
            "After processing remain 0 NAN values\n",
            " ------------------------------------------------------\n",
            "-------------------------------------------------\n",
            "\n",
            "STEP4: ALL CATEGORICAL TO ORDINAL ENCODE\n",
            "\n",
            "43 categorical features, \n",
            "['MSZoning', 'Street', 'Alley', 'LotShape', 'LandContour', 'Utilities', 'LotConfig', 'LandSlope', 'Neighborhood', 'Condition1', 'Condition2', 'BldgType', 'HouseStyle', 'RoofStyle', 'RoofMatl', 'Exterior1st', 'Exterior2nd', 'MasVnrType', 'ExterQual', 'ExterCond', 'Foundation', 'BsmtQual', 'BsmtCond', 'BsmtExposure', 'BsmtFinType1', 'BsmtFinType2', 'Heating', 'HeatingQC', 'CentralAir', 'Electrical', 'KitchenQual', 'Functional', 'FireplaceQu', 'GarageType', 'GarageFinish', 'GarageQual', 'GarageCond', 'PavedDrive', 'PoolQC', 'Fence', 'MiscFeature', 'SaleType', 'SaleCondition']\n",
            "\n",
            "AFTER ENCODING: 0 categorical features, \n",
            "[]\n",
            "-------------------------------------------------\n",
            "\n",
            "STEP5: HEATMAP TO IDENTIFY LESS SIGNIFICANT FEATURES\n",
            "-------------------------------------------------\n",
            "\n",
            "STEP6: REMOVE INSIGNIFICANT FEATURES\n",
            "41 insignificant features, for level=0.2\n",
            " features_to_drop = ['Id', 'MSSubClass', 'MSZoning', 'Street', 'Alley', 'LandContour', 'Utilities', 'LotConfig', 'LandSlope', 'Condition1', 'Condition2', 'BldgType', 'HouseStyle', 'OverallCond', 'RoofMatl', 'Exterior1st', 'Exterior2nd', 'MasVnrType', 'ExterCond', 'BsmtCond', 'BsmtFinType1', 'BsmtFinType2', 'BsmtFinSF2', 'Heating', 'LowQualFinSF', 'BsmtHalfBath', 'BedroomAbvGr', 'KitchenAbvGr', 'Functional', 'FireplaceQu', 'EnclosedPorch', '3SsnPorch', 'ScreenPorch', 'PoolArea', 'PoolQC', 'Fence', 'MiscFeature', 'MiscVal', 'MoSold', 'YrSold', 'SaleType']\n",
            "-------------------------------------------------\n",
            "\n",
            "STEP7: MAKE SURE NO INSIGNIFICANT FEATURE IS IN DATASET\n",
            "If any insignif. features remained? --> False\n",
            "-------------------------------------------------\n",
            "\n",
            "STEP8: Your dataset after processing:\n",
            "<class 'pandas.core.frame.DataFrame'>\n",
            "RangeIndex: 1460 entries, 0 to 1459\n",
            "Data columns (total 40 columns):\n",
            " #   Column         Non-Null Count  Dtype  \n",
            "---  ------         --------------  -----  \n",
            " 0   LotFrontage    1460 non-null   float64\n",
            " 1   LotArea        1460 non-null   int64  \n",
            " 2   LotShape       1460 non-null   int64  \n",
            " 3   Neighborhood   1460 non-null   int64  \n",
            " 4   OverallQual    1460 non-null   int64  \n",
            " 5   YearBuilt      1460 non-null   int64  \n",
            " 6   YearRemodAdd   1460 non-null   int64  \n",
            " 7   RoofStyle      1460 non-null   int64  \n",
            " 8   MasVnrArea     1460 non-null   float64\n",
            " 9   ExterQual      1460 non-null   int64  \n",
            " 10  Foundation     1460 non-null   int64  \n",
            " 11  BsmtQual       1460 non-null   int64  \n",
            " 12  BsmtExposure   1460 non-null   int64  \n",
            " 13  BsmtFinSF1     1460 non-null   int64  \n",
            " 14  BsmtUnfSF      1460 non-null   int64  \n",
            " 15  TotalBsmtSF    1460 non-null   int64  \n",
            " 16  HeatingQC      1460 non-null   int64  \n",
            " 17  CentralAir     1460 non-null   int64  \n",
            " 18  Electrical     1460 non-null   int64  \n",
            " 19  1stFlrSF       1460 non-null   int64  \n",
            " 20  2ndFlrSF       1460 non-null   int64  \n",
            " 21  GrLivArea      1460 non-null   int64  \n",
            " 22  BsmtFullBath   1460 non-null   int64  \n",
            " 23  FullBath       1460 non-null   int64  \n",
            " 24  HalfBath       1460 non-null   int64  \n",
            " 25  KitchenQual    1460 non-null   int64  \n",
            " 26  TotRmsAbvGrd   1460 non-null   int64  \n",
            " 27  Fireplaces     1460 non-null   int64  \n",
            " 28  GarageType     1460 non-null   int64  \n",
            " 29  GarageYrBlt    1460 non-null   float64\n",
            " 30  GarageFinish   1460 non-null   int64  \n",
            " 31  GarageCars     1460 non-null   int64  \n",
            " 32  GarageArea     1460 non-null   int64  \n",
            " 33  GarageQual     1460 non-null   int64  \n",
            " 34  GarageCond     1460 non-null   int64  \n",
            " 35  PavedDrive     1460 non-null   int64  \n",
            " 36  WoodDeckSF     1460 non-null   int64  \n",
            " 37  OpenPorchSF    1460 non-null   int64  \n",
            " 38  SaleCondition  1460 non-null   int64  \n",
            " 39  SalePrice      1460 non-null   int64  \n",
            "dtypes: float64(3), int64(37)\n",
            "memory usage: 456.4 KB\n",
            "None\n",
            "-----------------------END-----------------------\n",
            "\n"
          ],
          "name": "stdout"
        },
        {
          "output_type": "display_data",
          "data": {
            "image/png": "[encoded data removed]",
            "text/plain": [
              "<Figure size 432x288 with 2 Axes>"
            ]
          },
          "metadata": {
            "tags": [],
            "needs_background": "light"
          }
        }
      ]
    },
    {
      "cell_type": "code",
      "metadata": {
        "id": "YBSSgzYcGuy4",
        "colab": {
          "base_uri": "https://localhost:8080/",
          "height": 1000
        },
        "outputId": "6dc98b88-dc85-44d4-8327-76fc8e0fac4c"
      },
      "source": [
        "# prepare_dataset(df_test, \n",
        "#                 corr_threshold=0.2, \n",
        "#                 plot_distrib=False)#,\n",
        "#                 #features_to_drop = [\n",
        "#                 #  'Id', 'Alley', 'PoolQC', 'Fence', 'MiscFeature'\n",
        "#                 #])"
      ],
      "execution_count": 9,
      "outputs": [
        {
          "output_type": "stream",
          "text": [
            "-------------------------------------------------\n",
            "\n",
            "STEP1: Look at initial features:\n",
            "\n",
            "<class 'pandas.core.frame.DataFrame'>\n",
            "RangeIndex: 1460 entries, 0 to 1459\n",
            "Data columns (total 40 columns):\n",
            " #   Column         Non-Null Count  Dtype  \n",
            "---  ------         --------------  -----  \n",
            " 0   LotFrontage    1460 non-null   float64\n",
            " 1   LotArea        1460 non-null   int64  \n",
            " 2   LotShape       1460 non-null   int64  \n",
            " 3   Neighborhood   1460 non-null   int64  \n",
            " 4   OverallQual    1460 non-null   int64  \n",
            " 5   YearBuilt      1460 non-null   int64  \n",
            " 6   YearRemodAdd   1460 non-null   int64  \n",
            " 7   RoofStyle      1460 non-null   int64  \n",
            " 8   MasVnrArea     1460 non-null   float64\n",
            " 9   ExterQual      1460 non-null   int64  \n",
            " 10  Foundation     1460 non-null   int64  \n",
            " 11  BsmtQual       1460 non-null   int64  \n",
            " 12  BsmtExposure   1460 non-null   int64  \n",
            " 13  BsmtFinSF1     1460 non-null   int64  \n",
            " 14  BsmtUnfSF      1460 non-null   int64  \n",
            " 15  TotalBsmtSF    1460 non-null   int64  \n",
            " 16  HeatingQC      1460 non-null   int64  \n",
            " 17  CentralAir     1460 non-null   int64  \n",
            " 18  Electrical     1460 non-null   int64  \n",
            " 19  1stFlrSF       1460 non-null   int64  \n",
            " 20  2ndFlrSF       1460 non-null   int64  \n",
            " 21  GrLivArea      1460 non-null   int64  \n",
            " 22  BsmtFullBath   1460 non-null   int64  \n",
            " 23  FullBath       1460 non-null   int64  \n",
            " 24  HalfBath       1460 non-null   int64  \n",
            " 25  KitchenQual    1460 non-null   int64  \n",
            " 26  TotRmsAbvGrd   1460 non-null   int64  \n",
            " 27  Fireplaces     1460 non-null   int64  \n",
            " 28  GarageType     1460 non-null   int64  \n",
            " 29  GarageYrBlt    1460 non-null   float64\n",
            " 30  GarageFinish   1460 non-null   int64  \n",
            " 31  GarageCars     1460 non-null   int64  \n",
            " 32  GarageArea     1460 non-null   int64  \n",
            " 33  GarageQual     1460 non-null   int64  \n",
            " 34  GarageCond     1460 non-null   int64  \n",
            " 35  PavedDrive     1460 non-null   int64  \n",
            " 36  WoodDeckSF     1460 non-null   int64  \n",
            " 37  OpenPorchSF    1460 non-null   int64  \n",
            " 38  SaleCondition  1460 non-null   int64  \n",
            " 39  SalePrice      1460 non-null   int64  \n",
            "dtypes: float64(3), int64(37)\n",
            "memory usage: 456.4 KB\n",
            "None\n",
            "-------------------------------------------------\n",
            "\n",
            "-------------------------------------------------\n",
            "\n",
            "STEP3: SIFT NAN VALUES\n",
            "------------NAN processing----------------\n",
            "\n",
            "11 numeric features with NAN:\n",
            "['LotFrontage', 'MasVnrArea', 'BsmtFinSF1', 'BsmtFinSF2', 'BsmtUnfSF', 'TotalBsmtSF', 'BsmtFullBath', 'BsmtHalfBath', 'GarageYrBlt', 'GarageCars', 'GarageArea']\n",
            "\n",
            " 22 categorical features with NAN:\n",
            " ['MSZoning', 'Alley', 'Utilities', 'Exterior1st', 'Exterior2nd', 'MasVnrType', 'BsmtQual', 'BsmtCond', 'BsmtExposure', 'BsmtFinType1', 'BsmtFinType2', 'KitchenQual', 'Functional', 'FireplaceQu', 'GarageType', 'GarageFinish', 'GarageQual', 'GarageCond', 'PoolQC', 'Fence', 'MiscFeature', 'SaleType']\n",
            "\n",
            "After processing remain 0 NAN values\n",
            " ------------------------------------------------------\n",
            "-------------------------------------------------\n",
            "\n",
            "STEP4: ALL CATEGORICAL TO ORDINAL ENCODE\n",
            "\n",
            "43 categorical features, \n",
            "['MSZoning', 'Street', 'Alley', 'LotShape', 'LandContour', 'Utilities', 'LotConfig', 'LandSlope', 'Neighborhood', 'Condition1', 'Condition2', 'BldgType', 'HouseStyle', 'RoofStyle', 'RoofMatl', 'Exterior1st', 'Exterior2nd', 'MasVnrType', 'ExterQual', 'ExterCond', 'Foundation', 'BsmtQual', 'BsmtCond', 'BsmtExposure', 'BsmtFinType1', 'BsmtFinType2', 'Heating', 'HeatingQC', 'CentralAir', 'Electrical', 'KitchenQual', 'Functional', 'FireplaceQu', 'GarageType', 'GarageFinish', 'GarageQual', 'GarageCond', 'PavedDrive', 'PoolQC', 'Fence', 'MiscFeature', 'SaleType', 'SaleCondition']\n",
            "\n",
            "AFTER ENCODING: 0 categorical features, \n",
            "[]\n",
            "-------------------------------------------------\n",
            "\n",
            "STEP5: HEATMAP TO IDENTIFY LESS SIGNIFICANT FEATURES\n",
            "-------------------------------------------------\n",
            "\n",
            "STEP6: REMOVE INSIGNIFICANT FEATURES\n",
            "0 insignificant features, for level=0.2\n",
            " features_to_drop = []\n",
            "-------------------------------------------------\n",
            "\n",
            "STEP7: MAKE SURE NO INSIGNIFICANT FEATURE IS IN DATASET\n",
            "If any insignif. features remained? --> False\n",
            "-------------------------------------------------\n",
            "\n",
            "STEP8: Your dataset after processing:\n",
            "<class 'pandas.core.frame.DataFrame'>\n",
            "RangeIndex: 1459 entries, 0 to 1458\n",
            "Data columns (total 80 columns):\n",
            " #   Column         Non-Null Count  Dtype  \n",
            "---  ------         --------------  -----  \n",
            " 0   Id             1459 non-null   int64  \n",
            " 1   MSSubClass     1459 non-null   int64  \n",
            " 2   MSZoning       1459 non-null   int64  \n",
            " 3   LotFrontage    1459 non-null   float64\n",
            " 4   LotArea        1459 non-null   int64  \n",
            " 5   Street         1459 non-null   int64  \n",
            " 6   Alley          1459 non-null   int64  \n",
            " 7   LotShape       1459 non-null   int64  \n",
            " 8   LandContour    1459 non-null   int64  \n",
            " 9   Utilities      1459 non-null   int64  \n",
            " 10  LotConfig      1459 non-null   int64  \n",
            " 11  LandSlope      1459 non-null   int64  \n",
            " 12  Neighborhood   1459 non-null   int64  \n",
            " 13  Condition1     1459 non-null   int64  \n",
            " 14  Condition2     1459 non-null   int64  \n",
            " 15  BldgType       1459 non-null   int64  \n",
            " 16  HouseStyle     1459 non-null   int64  \n",
            " 17  OverallQual    1459 non-null   int64  \n",
            " 18  OverallCond    1459 non-null   int64  \n",
            " 19  YearBuilt      1459 non-null   int64  \n",
            " 20  YearRemodAdd   1459 non-null   int64  \n",
            " 21  RoofStyle      1459 non-null   int64  \n",
            " 22  RoofMatl       1459 non-null   int64  \n",
            " 23  Exterior1st    1459 non-null   int64  \n",
            " 24  Exterior2nd    1459 non-null   int64  \n",
            " 25  MasVnrType     1459 non-null   int64  \n",
            " 26  MasVnrArea     1459 non-null   float64\n",
            " 27  ExterQual      1459 non-null   int64  \n",
            " 28  ExterCond      1459 non-null   int64  \n",
            " 29  Foundation     1459 non-null   int64  \n",
            " 30  BsmtQual       1459 non-null   int64  \n",
            " 31  BsmtCond       1459 non-null   int64  \n",
            " 32  BsmtExposure   1459 non-null   int64  \n",
            " 33  BsmtFinType1   1459 non-null   int64  \n",
            " 34  BsmtFinSF1     1459 non-null   float64\n",
            " 35  BsmtFinType2   1459 non-null   int64  \n",
            " 36  BsmtFinSF2     1459 non-null   float64\n",
            " 37  BsmtUnfSF      1459 non-null   float64\n",
            " 38  TotalBsmtSF    1459 non-null   float64\n",
            " 39  Heating        1459 non-null   int64  \n",
            " 40  HeatingQC      1459 non-null   int64  \n",
            " 41  CentralAir     1459 non-null   int64  \n",
            " 42  Electrical     1459 non-null   int64  \n",
            " 43  1stFlrSF       1459 non-null   int64  \n",
            " 44  2ndFlrSF       1459 non-null   int64  \n",
            " 45  LowQualFinSF   1459 non-null   int64  \n",
            " 46  GrLivArea      1459 non-null   int64  \n",
            " 47  BsmtFullBath   1459 non-null   float64\n",
            " 48  BsmtHalfBath   1459 non-null   float64\n",
            " 49  FullBath       1459 non-null   int64  \n",
            " 50  HalfBath       1459 non-null   int64  \n",
            " 51  BedroomAbvGr   1459 non-null   int64  \n",
            " 52  KitchenAbvGr   1459 non-null   int64  \n",
            " 53  KitchenQual    1459 non-null   int64  \n",
            " 54  TotRmsAbvGrd   1459 non-null   int64  \n",
            " 55  Functional     1459 non-null   int64  \n",
            " 56  Fireplaces     1459 non-null   int64  \n",
            " 57  FireplaceQu    1459 non-null   int64  \n",
            " 58  GarageType     1459 non-null   int64  \n",
            " 59  GarageYrBlt    1459 non-null   float64\n",
            " 60  GarageFinish   1459 non-null   int64  \n",
            " 61  GarageCars     1459 non-null   float64\n",
            " 62  GarageArea     1459 non-null   float64\n",
            " 63  GarageQual     1459 non-null   int64  \n",
            " 64  GarageCond     1459 non-null   int64  \n",
            " 65  PavedDrive     1459 non-null   int64  \n",
            " 66  WoodDeckSF     1459 non-null   int64  \n",
            " 67  OpenPorchSF    1459 non-null   int64  \n",
            " 68  EnclosedPorch  1459 non-null   int64  \n",
            " 69  3SsnPorch      1459 non-null   int64  \n",
            " 70  ScreenPorch    1459 non-null   int64  \n",
            " 71  PoolArea       1459 non-null   int64  \n",
            " 72  PoolQC         1459 non-null   int64  \n",
            " 73  Fence          1459 non-null   int64  \n",
            " 74  MiscFeature    1459 non-null   int64  \n",
            " 75  MiscVal        1459 non-null   int64  \n",
            " 76  MoSold         1459 non-null   int64  \n",
            " 77  YrSold         1459 non-null   int64  \n",
            " 78  SaleType       1459 non-null   int64  \n",
            " 79  SaleCondition  1459 non-null   int64  \n",
            "dtypes: float64(11), int64(69)\n",
            "memory usage: 912.0 KB\n",
            "None\n",
            "-----------------------END-----------------------\n",
            "\n"
          ],
          "name": "stdout"
        },
        {
          "output_type": "execute_result",
          "data": {
            "text/plain": [
              "[]"
            ]
          },
          "metadata": {
            "tags": []
          },
          "execution_count": 9
        },
        {
          "output_type": "display_data",
          "data": {
            "image/png": "[encoded data removed]",
            "text/plain": [
              "<Figure size 432x288 with 2 Axes>"
            ]
          },
          "metadata": {
            "tags": [],
            "needs_background": "light"
          }
        }
      ]
    },
    {
      "cell_type": "markdown",
      "metadata": {
        "id": "S-6lhYV7bQ_i"
      },
      "source": [
        ""
      ]
    },
    {
      "cell_type": "code",
      "metadata": {
        "id": "qdqK1eJ8LKEK",
        "colab": {
          "base_uri": "https://localhost:8080/",
          "height": 216
        },
        "outputId": "482fe955-1291-4881-94b4-04f636dab3ff"
      },
      "source": [
        "df_train.head()"
      ],
      "execution_count": 20,
      "outputs": [
        {
          "output_type": "execute_result",
          "data": {
            "text/html": [
              "<div>\n",
              "<style scoped>\n",
              "    .dataframe tbody tr th:only-of-type {\n",
              "        vertical-align: middle;\n",
              "    }\n",
              "\n",
              "    .dataframe tbody tr th {\n",
              "        vertical-align: top;\n",
              "    }\n",
              "\n",
              "    .dataframe thead th {\n",
              "        text-align: right;\n",
              "    }\n",
              "</style>\n",
              "<table border=\"1\" class=\"dataframe\">\n",
              "  <thead>\n",
              "    <tr style=\"text-align: right;\">\n",
              "      <th></th>\n",
              "      <th>LotFrontage</th>\n",
              "      <th>LotArea</th>\n",
              "      <th>LotShape</th>\n",
              "      <th>Neighborhood</th>\n",
              "      <th>OverallQual</th>\n",
              "      <th>YearBuilt</th>\n",
              "      <th>YearRemodAdd</th>\n",
              "      <th>RoofStyle</th>\n",
              "      <th>MasVnrArea</th>\n",
              "      <th>ExterQual</th>\n",
              "      <th>Foundation</th>\n",
              "      <th>BsmtQual</th>\n",
              "      <th>BsmtExposure</th>\n",
              "      <th>BsmtFinSF1</th>\n",
              "      <th>BsmtUnfSF</th>\n",
              "      <th>TotalBsmtSF</th>\n",
              "      <th>HeatingQC</th>\n",
              "      <th>CentralAir</th>\n",
              "      <th>Electrical</th>\n",
              "      <th>1stFlrSF</th>\n",
              "      <th>2ndFlrSF</th>\n",
              "      <th>GrLivArea</th>\n",
              "      <th>BsmtFullBath</th>\n",
              "      <th>FullBath</th>\n",
              "      <th>HalfBath</th>\n",
              "      <th>KitchenQual</th>\n",
              "      <th>TotRmsAbvGrd</th>\n",
              "      <th>Fireplaces</th>\n",
              "      <th>GarageType</th>\n",
              "      <th>GarageYrBlt</th>\n",
              "      <th>GarageFinish</th>\n",
              "      <th>GarageCars</th>\n",
              "      <th>GarageArea</th>\n",
              "      <th>GarageQual</th>\n",
              "      <th>GarageCond</th>\n",
              "      <th>PavedDrive</th>\n",
              "      <th>WoodDeckSF</th>\n",
              "      <th>OpenPorchSF</th>\n",
              "      <th>SaleCondition</th>\n",
              "      <th>SalePrice</th>\n",
              "    </tr>\n",
              "  </thead>\n",
              "  <tbody>\n",
              "    <tr>\n",
              "      <th>0</th>\n",
              "      <td>65.0</td>\n",
              "      <td>8450</td>\n",
              "      <td>3</td>\n",
              "      <td>5</td>\n",
              "      <td>7</td>\n",
              "      <td>2003</td>\n",
              "      <td>2003</td>\n",
              "      <td>1</td>\n",
              "      <td>196.0</td>\n",
              "      <td>2</td>\n",
              "      <td>2</td>\n",
              "      <td>2</td>\n",
              "      <td>3</td>\n",
              "      <td>706</td>\n",
              "      <td>150</td>\n",
              "      <td>856</td>\n",
              "      <td>0</td>\n",
              "      <td>1</td>\n",
              "      <td>5</td>\n",
              "      <td>856</td>\n",
              "      <td>854</td>\n",
              "      <td>1710</td>\n",
              "      <td>1</td>\n",
              "      <td>2</td>\n",
              "      <td>1</td>\n",
              "      <td>2</td>\n",
              "      <td>8</td>\n",
              "      <td>0</td>\n",
              "      <td>1</td>\n",
              "      <td>2003.0</td>\n",
              "      <td>2</td>\n",
              "      <td>2</td>\n",
              "      <td>548</td>\n",
              "      <td>5</td>\n",
              "      <td>5</td>\n",
              "      <td>2</td>\n",
              "      <td>0</td>\n",
              "      <td>61</td>\n",
              "      <td>4</td>\n",
              "      <td>208500</td>\n",
              "    </tr>\n",
              "    <tr>\n",
              "      <th>1</th>\n",
              "      <td>80.0</td>\n",
              "      <td>9600</td>\n",
              "      <td>3</td>\n",
              "      <td>24</td>\n",
              "      <td>6</td>\n",
              "      <td>1976</td>\n",
              "      <td>1976</td>\n",
              "      <td>1</td>\n",
              "      <td>0.0</td>\n",
              "      <td>3</td>\n",
              "      <td>1</td>\n",
              "      <td>2</td>\n",
              "      <td>1</td>\n",
              "      <td>978</td>\n",
              "      <td>284</td>\n",
              "      <td>1262</td>\n",
              "      <td>0</td>\n",
              "      <td>1</td>\n",
              "      <td>5</td>\n",
              "      <td>1262</td>\n",
              "      <td>0</td>\n",
              "      <td>1262</td>\n",
              "      <td>0</td>\n",
              "      <td>2</td>\n",
              "      <td>0</td>\n",
              "      <td>3</td>\n",
              "      <td>6</td>\n",
              "      <td>1</td>\n",
              "      <td>1</td>\n",
              "      <td>1976.0</td>\n",
              "      <td>2</td>\n",
              "      <td>2</td>\n",
              "      <td>460</td>\n",
              "      <td>5</td>\n",
              "      <td>5</td>\n",
              "      <td>2</td>\n",
              "      <td>298</td>\n",
              "      <td>0</td>\n",
              "      <td>4</td>\n",
              "      <td>181500</td>\n",
              "    </tr>\n",
              "    <tr>\n",
              "      <th>2</th>\n",
              "      <td>68.0</td>\n",
              "      <td>11250</td>\n",
              "      <td>0</td>\n",
              "      <td>5</td>\n",
              "      <td>7</td>\n",
              "      <td>2001</td>\n",
              "      <td>2002</td>\n",
              "      <td>1</td>\n",
              "      <td>162.0</td>\n",
              "      <td>2</td>\n",
              "      <td>2</td>\n",
              "      <td>2</td>\n",
              "      <td>2</td>\n",
              "      <td>486</td>\n",
              "      <td>434</td>\n",
              "      <td>920</td>\n",
              "      <td>0</td>\n",
              "      <td>1</td>\n",
              "      <td>5</td>\n",
              "      <td>920</td>\n",
              "      <td>866</td>\n",
              "      <td>1786</td>\n",
              "      <td>1</td>\n",
              "      <td>2</td>\n",
              "      <td>1</td>\n",
              "      <td>2</td>\n",
              "      <td>6</td>\n",
              "      <td>1</td>\n",
              "      <td>1</td>\n",
              "      <td>2001.0</td>\n",
              "      <td>2</td>\n",
              "      <td>2</td>\n",
              "      <td>608</td>\n",
              "      <td>5</td>\n",
              "      <td>5</td>\n",
              "      <td>2</td>\n",
              "      <td>0</td>\n",
              "      <td>42</td>\n",
              "      <td>4</td>\n",
              "      <td>223500</td>\n",
              "    </tr>\n",
              "    <tr>\n",
              "      <th>3</th>\n",
              "      <td>60.0</td>\n",
              "      <td>9550</td>\n",
              "      <td>0</td>\n",
              "      <td>6</td>\n",
              "      <td>7</td>\n",
              "      <td>1915</td>\n",
              "      <td>1970</td>\n",
              "      <td>1</td>\n",
              "      <td>0.0</td>\n",
              "      <td>3</td>\n",
              "      <td>0</td>\n",
              "      <td>4</td>\n",
              "      <td>3</td>\n",
              "      <td>216</td>\n",
              "      <td>540</td>\n",
              "      <td>756</td>\n",
              "      <td>2</td>\n",
              "      <td>1</td>\n",
              "      <td>5</td>\n",
              "      <td>961</td>\n",
              "      <td>756</td>\n",
              "      <td>1717</td>\n",
              "      <td>1</td>\n",
              "      <td>1</td>\n",
              "      <td>0</td>\n",
              "      <td>2</td>\n",
              "      <td>7</td>\n",
              "      <td>1</td>\n",
              "      <td>5</td>\n",
              "      <td>1998.0</td>\n",
              "      <td>3</td>\n",
              "      <td>3</td>\n",
              "      <td>642</td>\n",
              "      <td>5</td>\n",
              "      <td>5</td>\n",
              "      <td>2</td>\n",
              "      <td>0</td>\n",
              "      <td>35</td>\n",
              "      <td>0</td>\n",
              "      <td>140000</td>\n",
              "    </tr>\n",
              "    <tr>\n",
              "      <th>4</th>\n",
              "      <td>84.0</td>\n",
              "      <td>14260</td>\n",
              "      <td>0</td>\n",
              "      <td>15</td>\n",
              "      <td>8</td>\n",
              "      <td>2000</td>\n",
              "      <td>2000</td>\n",
              "      <td>1</td>\n",
              "      <td>350.0</td>\n",
              "      <td>2</td>\n",
              "      <td>2</td>\n",
              "      <td>2</td>\n",
              "      <td>0</td>\n",
              "      <td>655</td>\n",
              "      <td>490</td>\n",
              "      <td>1145</td>\n",
              "      <td>0</td>\n",
              "      <td>1</td>\n",
              "      <td>5</td>\n",
              "      <td>1145</td>\n",
              "      <td>1053</td>\n",
              "      <td>2198</td>\n",
              "      <td>1</td>\n",
              "      <td>2</td>\n",
              "      <td>1</td>\n",
              "      <td>2</td>\n",
              "      <td>9</td>\n",
              "      <td>1</td>\n",
              "      <td>1</td>\n",
              "      <td>2000.0</td>\n",
              "      <td>2</td>\n",
              "      <td>3</td>\n",
              "      <td>836</td>\n",
              "      <td>5</td>\n",
              "      <td>5</td>\n",
              "      <td>2</td>\n",
              "      <td>192</td>\n",
              "      <td>84</td>\n",
              "      <td>4</td>\n",
              "      <td>250000</td>\n",
              "    </tr>\n",
              "  </tbody>\n",
              "</table>\n",
              "</div>"
            ],
            "text/plain": [
              "   LotFrontage  LotArea  LotShape  ...  OpenPorchSF  SaleCondition  SalePrice\n",
              "0         65.0     8450         3  ...           61              4     208500\n",
              "1         80.0     9600         3  ...            0              4     181500\n",
              "2         68.0    11250         0  ...           42              4     223500\n",
              "3         60.0     9550         0  ...           35              0     140000\n",
              "4         84.0    14260         0  ...           84              4     250000\n",
              "\n",
              "[5 rows x 40 columns]"
            ]
          },
          "metadata": {
            "tags": []
          },
          "execution_count": 20
        }
      ]
    },
    {
      "cell_type": "code",
      "metadata": {
        "id": "AJGgknjKLgA8"
      },
      "source": [
        "# Step 8 \n",
        "X_data = df_train.drop('SalePrice', axis=1)\n",
        "Y_data = df_train['SalePrice']"
      ],
      "execution_count": 21,
      "outputs": []
    },
    {
      "cell_type": "code",
      "metadata": {
        "id": "HkPG8iBfGcsO",
        "outputId": "0fbdddab-8854-4c34-e507-73e2344a6943",
        "colab": {
          "base_uri": "https://localhost:8080/"
        }
      },
      "source": [
        "X_data.shape, Y_data.shape"
      ],
      "execution_count": 22,
      "outputs": [
        {
          "output_type": "execute_result",
          "data": {
            "text/plain": [
              "((1460, 39), (1460,))"
            ]
          },
          "metadata": {
            "tags": []
          },
          "execution_count": 22
        }
      ]
    },
    {
      "cell_type": "code",
      "metadata": {
        "id": "4UElTNXsMWon",
        "colab": {
          "base_uri": "https://localhost:8080/",
          "height": 312
        },
        "outputId": "a9359733-e222-4c82-d32d-05837db11c6e"
      },
      "source": [
        "# # Step 9 Standardize values\n",
        "# sc = StandardScaler()\n",
        "# X_train = sc.fit_transform(X_train)\n",
        "# X_test = sc.transform(X_test)"
      ],
      "execution_count": 13,
      "outputs": [
        {
          "output_type": "error",
          "ename": "ValueError",
          "evalue": "ignored",
          "traceback": [
            "\u001b[0;31m---------------------------------------------------------------------------\u001b[0m",
            "\u001b[0;31mValueError\u001b[0m                                Traceback (most recent call last)",
            "\u001b[0;32m<ipython-input-13-bd3593af5727>\u001b[0m in \u001b[0;36m<module>\u001b[0;34m()\u001b[0m\n\u001b[1;32m      2\u001b[0m \u001b[0msc\u001b[0m \u001b[0;34m=\u001b[0m \u001b[0mStandardScaler\u001b[0m\u001b[0;34m(\u001b[0m\u001b[0;34m)\u001b[0m\u001b[0;34m\u001b[0m\u001b[0;34m\u001b[0m\u001b[0m\n\u001b[1;32m      3\u001b[0m \u001b[0mX_train\u001b[0m \u001b[0;34m=\u001b[0m \u001b[0msc\u001b[0m\u001b[0;34m.\u001b[0m\u001b[0mfit_transform\u001b[0m\u001b[0;34m(\u001b[0m\u001b[0mX_train\u001b[0m\u001b[0;34m)\u001b[0m\u001b[0;34m\u001b[0m\u001b[0;34m\u001b[0m\u001b[0m\n\u001b[0;32m----> 4\u001b[0;31m \u001b[0mX_test\u001b[0m \u001b[0;34m=\u001b[0m \u001b[0msc\u001b[0m\u001b[0;34m.\u001b[0m\u001b[0mtransform\u001b[0m\u001b[0;34m(\u001b[0m\u001b[0mX_test\u001b[0m\u001b[0;34m)\u001b[0m\u001b[0;34m\u001b[0m\u001b[0;34m\u001b[0m\u001b[0m\n\u001b[0m",
            "\u001b[0;32m/usr/local/lib/python3.6/dist-packages/sklearn/preprocessing/_data.py\u001b[0m in \u001b[0;36mtransform\u001b[0;34m(self, X, copy)\u001b[0m\n\u001b[1;32m    804\u001b[0m         \u001b[0;32melse\u001b[0m\u001b[0;34m:\u001b[0m\u001b[0;34m\u001b[0m\u001b[0;34m\u001b[0m\u001b[0m\n\u001b[1;32m    805\u001b[0m             \u001b[0;32mif\u001b[0m \u001b[0mself\u001b[0m\u001b[0;34m.\u001b[0m\u001b[0mwith_mean\u001b[0m\u001b[0;34m:\u001b[0m\u001b[0;34m\u001b[0m\u001b[0;34m\u001b[0m\u001b[0m\n\u001b[0;32m--> 806\u001b[0;31m                 \u001b[0mX\u001b[0m \u001b[0;34m-=\u001b[0m \u001b[0mself\u001b[0m\u001b[0;34m.\u001b[0m\u001b[0mmean_\u001b[0m\u001b[0;34m\u001b[0m\u001b[0;34m\u001b[0m\u001b[0m\n\u001b[0m\u001b[1;32m    807\u001b[0m             \u001b[0;32mif\u001b[0m \u001b[0mself\u001b[0m\u001b[0;34m.\u001b[0m\u001b[0mwith_std\u001b[0m\u001b[0;34m:\u001b[0m\u001b[0;34m\u001b[0m\u001b[0;34m\u001b[0m\u001b[0m\n\u001b[1;32m    808\u001b[0m                 \u001b[0mX\u001b[0m \u001b[0;34m/=\u001b[0m \u001b[0mself\u001b[0m\u001b[0;34m.\u001b[0m\u001b[0mscale_\u001b[0m\u001b[0;34m\u001b[0m\u001b[0;34m\u001b[0m\u001b[0m\n",
            "\u001b[0;31mValueError\u001b[0m: operands could not be broadcast together with shapes (1459,80) (39,) (1459,80) "
          ]
        }
      ]
    },
    {
      "cell_type": "code",
      "metadata": {
        "colab": {
          "base_uri": "https://localhost:8080/"
        },
        "id": "bDNw1XXr6LI1",
        "outputId": "dc2c735e-f66e-46d1-f8be-c7b0f68c41d3"
      },
      "source": [
        "# Step 9: Split data\n",
        "x_train, x_test, y_train, y_test = train_test_split(X_data, Y_data, random_state = 98987)\n",
        "print(f'shapes of train and test are {len(x_train)}, {len(x_test)}, {len(y_train)}, {len(y_test)}')"
      ],
      "execution_count": 25,
      "outputs": [
        {
          "output_type": "stream",
          "text": [
            "shapes of train and test are 1095, 365, 1095, 365\n"
          ],
          "name": "stdout"
        }
      ]
    },
    {
      "cell_type": "code",
      "metadata": {
        "id": "l7vcKKB2S6ow"
      },
      "source": [
        "# Step 10: Prepare scorer, based on our metrics in Kaggle\n",
        "my_scorer = make_scorer(calc_metrics, greater_is_better=False)"
      ],
      "execution_count": 38,
      "outputs": []
    },
    {
      "cell_type": "code",
      "metadata": {
        "id": "dJ_m9EmelDR_"
      },
      "source": [
        "# Step 11: Define regressors\n",
        "regressors = {\n",
        "    'random forest': RandomForestRegressor(),\n",
        "    'XGB': XGBRegressor(),\n",
        "    'AdaBoost': AdaBoostRegressor()\n",
        "}"
      ],
      "execution_count": 70,
      "outputs": []
    },
    {
      "cell_type": "code",
      "metadata": {
        "id": "nMMT74Qwjcb7",
        "outputId": "545380a6-fa17-4cb0-d2f6-d5ea18ba6468",
        "colab": {
          "base_uri": "https://localhost:8080/"
        }
      },
      "source": [
        "# Step 12: Grid search & Test for RandomForestRegressor\n",
        "\n",
        "param_grid = {\n",
        "    'n_estimators': [200, 250, 300],\n",
        "    'criterion': ['mse', 'mae']\n",
        "}\n",
        "\n",
        "perform_grid_search(\n",
        "    'random forest',\n",
        "    param_grid,\n",
        "    my_scorer,\n",
        "    x_train, y_train,\n",
        "    x_test, y_test,\n",
        "    cv=5,\n",
        "    n_jobs=-1,\n",
        "    verbose=1)"
      ],
      "execution_count": 64,
      "outputs": [
        {
          "output_type": "stream",
          "text": [
            "<class 'sklearn.ensemble._forest.RandomForestRegressor'>\n",
            "--------------performing grid search--------------\n",
            "\n",
            "Fitting 5 folds for each of 6 candidates, totalling 30 fits\n"
          ],
          "name": "stdout"
        },
        {
          "output_type": "stream",
          "text": [
            "[Parallel(n_jobs=-1)]: Using backend LokyBackend with 2 concurrent workers.\n",
            "[Parallel(n_jobs=-1)]: Done  30 out of  30 | elapsed:  4.6min finished\n"
          ],
          "name": "stderr"
        },
        {
          "output_type": "stream",
          "text": [
            "--------------finished grid search---------------\n",
            "\n",
            "\n",
            "--------------------------------------------\n",
            "The best params are: {'criterion': 'mse', 'n_estimators': 250}\n",
            "\n",
            "lets calculate test metrics\n",
            "\n",
            "The test metrics: 0.1612601098575692\n",
            "\n",
            "---------------------END---------------------------\n",
            "\n",
            "\n"
          ],
          "name": "stdout"
        }
      ]
    },
    {
      "cell_type": "code",
      "metadata": {
        "id": "iq6ub_t8n8NA",
        "outputId": "07e5ac0e-3207-453b-c4d0-84c2b397c050",
        "colab": {
          "base_uri": "https://localhost:8080/"
        }
      },
      "source": [
        "# Step 13: Grid search & Test for XGBRegressor\n",
        "\n",
        "param_grid = {\n",
        "    'n_estimators': [200, 250, 300, 500],\n",
        "    'learning_rate': [0.01, 0.1, 0.15],\n",
        "    'tree_method': ['gpu_hist', 'hist']\n",
        "}\n",
        "\n",
        "perform_grid_search(\n",
        "    'XGB',\n",
        "    param_grid,\n",
        "    my_scorer,\n",
        "    x_train, y_train,\n",
        "    x_test, y_test,\n",
        "    cv=5,\n",
        "    n_jobs=-1,\n",
        "    verbose=1)"
      ],
      "execution_count": 68,
      "outputs": [
        {
          "output_type": "stream",
          "text": [
            "<class 'xgboost.sklearn.XGBRegressor'>\n",
            "--------------performing grid search--------------\n",
            "\n",
            "Fitting 5 folds for each of 24 candidates, totalling 120 fits\n"
          ],
          "name": "stdout"
        },
        {
          "output_type": "stream",
          "text": [
            "[Parallel(n_jobs=-1)]: Using backend LokyBackend with 2 concurrent workers.\n",
            "[Parallel(n_jobs=-1)]: Done  46 tasks      | elapsed:    9.2s\n",
            "[Parallel(n_jobs=-1)]: Done 120 out of 120 | elapsed:   23.1s finished\n"
          ],
          "name": "stderr"
        },
        {
          "output_type": "stream",
          "text": [
            "[06:14:21] WARNING: /workspace/src/objective/regression_obj.cu:152: reg:linear is now deprecated in favor of reg:squarederror.\n",
            "--------------finished grid search---------------\n",
            "\n",
            "\n",
            "--------------------------------------------\n",
            "The best params are: {'learning_rate': 0.1, 'n_estimators': 200, 'tree_method': 'hist'}\n",
            "\n",
            "lets calculate test metrics\n",
            "\n",
            "The test metrics: 0.15013073140050004\n",
            "\n",
            "---------------------END---------------------------\n",
            "\n",
            "\n"
          ],
          "name": "stdout"
        }
      ]
    },
    {
      "cell_type": "code",
      "metadata": {
        "id": "ixqAB7tCzL15",
        "outputId": "7efb6c4a-aed5-44aa-b31e-53a4cbe473f4",
        "colab": {
          "base_uri": "https://localhost:8080/"
        }
      },
      "source": [
        "# Step 14: Grid search & Test for AdaBoost Regressor\n",
        "\n",
        "param_grid = {\n",
        "    'n_estimators': [200, 250, 300, 500],\n",
        "    'learning_rate': [0.01, 0.1, 0.15],\n",
        "    'loss': ['linear', 'square', 'exponential']\n",
        "}\n",
        "\n",
        "perform_grid_search(\n",
        "    'AdaBoost',\n",
        "    param_grid,\n",
        "    my_scorer,\n",
        "    x_train, y_train,\n",
        "    x_test, y_test,\n",
        "    cv=5,\n",
        "    n_jobs=-1,\n",
        "    verbose=1)"
      ],
      "execution_count": 71,
      "outputs": [
        {
          "output_type": "stream",
          "text": [
            "<class 'sklearn.ensemble._weight_boosting.AdaBoostRegressor'>\n",
            "--------------performing grid search--------------\n",
            "\n",
            "Fitting 5 folds for each of 36 candidates, totalling 180 fits\n"
          ],
          "name": "stdout"
        },
        {
          "output_type": "stream",
          "text": [
            "[Parallel(n_jobs=-1)]: Using backend LokyBackend with 2 concurrent workers.\n",
            "[Parallel(n_jobs=-1)]: Done  46 tasks      | elapsed:   47.0s\n",
            "[Parallel(n_jobs=-1)]: Done 180 out of 180 | elapsed:  2.8min finished\n"
          ],
          "name": "stderr"
        },
        {
          "output_type": "stream",
          "text": [
            "--------------finished grid search---------------\n",
            "\n",
            "\n",
            "--------------------------------------------\n",
            "The best params are: {'learning_rate': 0.1, 'loss': 'exponential', 'n_estimators': 500}\n",
            "\n",
            "lets calculate test metrics\n",
            "\n",
            "The test metrics: 0.20719251510817857\n",
            "\n",
            "---------------------END---------------------------\n",
            "\n",
            "\n"
          ],
          "name": "stdout"
        }
      ]
    },
    {
      "cell_type": "code",
      "metadata": {
        "id": "umIFCOrG24NA",
        "outputId": "09552b9c-e524-409b-b1c3-7d7f6ea38ec4",
        "colab": {
          "base_uri": "https://localhost:8080/",
          "height": 1000
        }
      },
      "source": [
        "# Data submission\n",
        "df_test = pd.read_csv('test.csv')\n",
        "prepare_dataset(df_test, \n",
        "                corr_threshold=0.2,\n",
        "                features_to_drop=dropped_features)\n"
      ],
      "execution_count": 109,
      "outputs": [
        {
          "output_type": "stream",
          "text": [
            "-------------------------------------------------\n",
            "\n",
            "STEP1: Look at initial features:\n",
            "\n",
            "<class 'pandas.core.frame.DataFrame'>\n",
            "RangeIndex: 1459 entries, 0 to 1458\n",
            "Data columns (total 80 columns):\n",
            " #   Column         Non-Null Count  Dtype  \n",
            "---  ------         --------------  -----  \n",
            " 0   Id             1459 non-null   int64  \n",
            " 1   MSSubClass     1459 non-null   int64  \n",
            " 2   MSZoning       1455 non-null   object \n",
            " 3   LotFrontage    1232 non-null   float64\n",
            " 4   LotArea        1459 non-null   int64  \n",
            " 5   Street         1459 non-null   object \n",
            " 6   Alley          107 non-null    object \n",
            " 7   LotShape       1459 non-null   object \n",
            " 8   LandContour    1459 non-null   object \n",
            " 9   Utilities      1457 non-null   object \n",
            " 10  LotConfig      1459 non-null   object \n",
            " 11  LandSlope      1459 non-null   object \n",
            " 12  Neighborhood   1459 non-null   object \n",
            " 13  Condition1     1459 non-null   object \n",
            " 14  Condition2     1459 non-null   object \n",
            " 15  BldgType       1459 non-null   object \n",
            " 16  HouseStyle     1459 non-null   object \n",
            " 17  OverallQual    1459 non-null   int64  \n",
            " 18  OverallCond    1459 non-null   int64  \n",
            " 19  YearBuilt      1459 non-null   int64  \n",
            " 20  YearRemodAdd   1459 non-null   int64  \n",
            " 21  RoofStyle      1459 non-null   object \n",
            " 22  RoofMatl       1459 non-null   object \n",
            " 23  Exterior1st    1458 non-null   object \n",
            " 24  Exterior2nd    1458 non-null   object \n",
            " 25  MasVnrType     1443 non-null   object \n",
            " 26  MasVnrArea     1444 non-null   float64\n",
            " 27  ExterQual      1459 non-null   object \n",
            " 28  ExterCond      1459 non-null   object \n",
            " 29  Foundation     1459 non-null   object \n",
            " 30  BsmtQual       1415 non-null   object \n",
            " 31  BsmtCond       1414 non-null   object \n",
            " 32  BsmtExposure   1415 non-null   object \n",
            " 33  BsmtFinType1   1417 non-null   object \n",
            " 34  BsmtFinSF1     1458 non-null   float64\n",
            " 35  BsmtFinType2   1417 non-null   object \n",
            " 36  BsmtFinSF2     1458 non-null   float64\n",
            " 37  BsmtUnfSF      1458 non-null   float64\n",
            " 38  TotalBsmtSF    1458 non-null   float64\n",
            " 39  Heating        1459 non-null   object \n",
            " 40  HeatingQC      1459 non-null   object \n",
            " 41  CentralAir     1459 non-null   object \n",
            " 42  Electrical     1459 non-null   object \n",
            " 43  1stFlrSF       1459 non-null   int64  \n",
            " 44  2ndFlrSF       1459 non-null   int64  \n",
            " 45  LowQualFinSF   1459 non-null   int64  \n",
            " 46  GrLivArea      1459 non-null   int64  \n",
            " 47  BsmtFullBath   1457 non-null   float64\n",
            " 48  BsmtHalfBath   1457 non-null   float64\n",
            " 49  FullBath       1459 non-null   int64  \n",
            " 50  HalfBath       1459 non-null   int64  \n",
            " 51  BedroomAbvGr   1459 non-null   int64  \n",
            " 52  KitchenAbvGr   1459 non-null   int64  \n",
            " 53  KitchenQual    1458 non-null   object \n",
            " 54  TotRmsAbvGrd   1459 non-null   int64  \n",
            " 55  Functional     1457 non-null   object \n",
            " 56  Fireplaces     1459 non-null   int64  \n",
            " 57  FireplaceQu    729 non-null    object \n",
            " 58  GarageType     1383 non-null   object \n",
            " 59  GarageYrBlt    1381 non-null   float64\n",
            " 60  GarageFinish   1381 non-null   object \n",
            " 61  GarageCars     1458 non-null   float64\n",
            " 62  GarageArea     1458 non-null   float64\n",
            " 63  GarageQual     1381 non-null   object \n",
            " 64  GarageCond     1381 non-null   object \n",
            " 65  PavedDrive     1459 non-null   object \n",
            " 66  WoodDeckSF     1459 non-null   int64  \n",
            " 67  OpenPorchSF    1459 non-null   int64  \n",
            " 68  EnclosedPorch  1459 non-null   int64  \n",
            " 69  3SsnPorch      1459 non-null   int64  \n",
            " 70  ScreenPorch    1459 non-null   int64  \n",
            " 71  PoolArea       1459 non-null   int64  \n",
            " 72  PoolQC         3 non-null      object \n",
            " 73  Fence          290 non-null    object \n",
            " 74  MiscFeature    51 non-null     object \n",
            " 75  MiscVal        1459 non-null   int64  \n",
            " 76  MoSold         1459 non-null   int64  \n",
            " 77  YrSold         1459 non-null   int64  \n",
            " 78  SaleType       1458 non-null   object \n",
            " 79  SaleCondition  1459 non-null   object \n",
            "dtypes: float64(11), int64(26), object(43)\n",
            "memory usage: 912.0+ KB\n",
            "None\n",
            "-------------------------------------------------\n",
            "\n",
            "STEP3: SIFT NAN VALUES\n",
            "------------NAN processing----------------\n",
            "\n",
            "11 numeric features with NAN:\n",
            "['LotFrontage', 'MasVnrArea', 'BsmtFinSF1', 'BsmtFinSF2', 'BsmtUnfSF', 'TotalBsmtSF', 'BsmtFullBath', 'BsmtHalfBath', 'GarageYrBlt', 'GarageCars', 'GarageArea']\n",
            "\n",
            " 22 categorical features with NAN:\n",
            " ['MSZoning', 'Alley', 'Utilities', 'Exterior1st', 'Exterior2nd', 'MasVnrType', 'BsmtQual', 'BsmtCond', 'BsmtExposure', 'BsmtFinType1', 'BsmtFinType2', 'KitchenQual', 'Functional', 'FireplaceQu', 'GarageType', 'GarageFinish', 'GarageQual', 'GarageCond', 'PoolQC', 'Fence', 'MiscFeature', 'SaleType']\n",
            "\n",
            "After processing remain 0 NAN values\n",
            " ------------------------------------------------------\n",
            "-------------------------------------------------\n",
            "\n",
            "STEP4: ALL CATEGORICAL TO ORDINAL ENCODE\n",
            "\n",
            "43 categorical features, \n",
            "['MSZoning', 'Street', 'Alley', 'LotShape', 'LandContour', 'Utilities', 'LotConfig', 'LandSlope', 'Neighborhood', 'Condition1', 'Condition2', 'BldgType', 'HouseStyle', 'RoofStyle', 'RoofMatl', 'Exterior1st', 'Exterior2nd', 'MasVnrType', 'ExterQual', 'ExterCond', 'Foundation', 'BsmtQual', 'BsmtCond', 'BsmtExposure', 'BsmtFinType1', 'BsmtFinType2', 'Heating', 'HeatingQC', 'CentralAir', 'Electrical', 'KitchenQual', 'Functional', 'FireplaceQu', 'GarageType', 'GarageFinish', 'GarageQual', 'GarageCond', 'PavedDrive', 'PoolQC', 'Fence', 'MiscFeature', 'SaleType', 'SaleCondition']\n",
            "\n",
            "AFTER ENCODING: 0 categorical features, \n",
            "[]\n",
            "-------------------------------------------------\n",
            "\n",
            "STEP5: HEATMAP TO IDENTIFY LESS SIGNIFICANT FEATURES\n",
            "-------------------------------------------------\n",
            "\n",
            "STEP6: REMOVE INSIGNIFICANT FEATURES\n",
            "-------------------------------------------------\n",
            "\n",
            "STEP7: MAKE SURE NO INSIGNIFICANT FEATURE IS IN DATASET\n",
            "If any insignif. features remained? --> False\n",
            "-------------------------------------------------\n",
            "\n",
            "STEP8: Your dataset after processing:\n",
            "<class 'pandas.core.frame.DataFrame'>\n",
            "RangeIndex: 1459 entries, 0 to 1458\n",
            "Data columns (total 39 columns):\n",
            " #   Column         Non-Null Count  Dtype  \n",
            "---  ------         --------------  -----  \n",
            " 0   LotFrontage    1459 non-null   float64\n",
            " 1   LotArea        1459 non-null   int64  \n",
            " 2   LotShape       1459 non-null   int64  \n",
            " 3   Neighborhood   1459 non-null   int64  \n",
            " 4   OverallQual    1459 non-null   int64  \n",
            " 5   YearBuilt      1459 non-null   int64  \n",
            " 6   YearRemodAdd   1459 non-null   int64  \n",
            " 7   RoofStyle      1459 non-null   int64  \n",
            " 8   MasVnrArea     1459 non-null   float64\n",
            " 9   ExterQual      1459 non-null   int64  \n",
            " 10  Foundation     1459 non-null   int64  \n",
            " 11  BsmtQual       1459 non-null   int64  \n",
            " 12  BsmtExposure   1459 non-null   int64  \n",
            " 13  BsmtFinSF1     1459 non-null   float64\n",
            " 14  BsmtUnfSF      1459 non-null   float64\n",
            " 15  TotalBsmtSF    1459 non-null   float64\n",
            " 16  HeatingQC      1459 non-null   int64  \n",
            " 17  CentralAir     1459 non-null   int64  \n",
            " 18  Electrical     1459 non-null   int64  \n",
            " 19  1stFlrSF       1459 non-null   int64  \n",
            " 20  2ndFlrSF       1459 non-null   int64  \n",
            " 21  GrLivArea      1459 non-null   int64  \n",
            " 22  BsmtFullBath   1459 non-null   float64\n",
            " 23  FullBath       1459 non-null   int64  \n",
            " 24  HalfBath       1459 non-null   int64  \n",
            " 25  KitchenQual    1459 non-null   int64  \n",
            " 26  TotRmsAbvGrd   1459 non-null   int64  \n",
            " 27  Fireplaces     1459 non-null   int64  \n",
            " 28  GarageType     1459 non-null   int64  \n",
            " 29  GarageYrBlt    1459 non-null   float64\n",
            " 30  GarageFinish   1459 non-null   int64  \n",
            " 31  GarageCars     1459 non-null   float64\n",
            " 32  GarageArea     1459 non-null   float64\n",
            " 33  GarageQual     1459 non-null   int64  \n",
            " 34  GarageCond     1459 non-null   int64  \n",
            " 35  PavedDrive     1459 non-null   int64  \n",
            " 36  WoodDeckSF     1459 non-null   int64  \n",
            " 37  OpenPorchSF    1459 non-null   int64  \n",
            " 38  SaleCondition  1459 non-null   int64  \n",
            "dtypes: float64(9), int64(30)\n",
            "memory usage: 444.7 KB\n",
            "None\n",
            "-----------------------END-----------------------\n",
            "\n"
          ],
          "name": "stdout"
        },
        {
          "output_type": "execute_result",
          "data": {
            "text/plain": [
              "['Id',\n",
              " 'MSSubClass',\n",
              " 'MSZoning',\n",
              " 'Street',\n",
              " 'Alley',\n",
              " 'LandContour',\n",
              " 'Utilities',\n",
              " 'LotConfig',\n",
              " 'LandSlope',\n",
              " 'Condition1',\n",
              " 'Condition2',\n",
              " 'BldgType',\n",
              " 'HouseStyle',\n",
              " 'OverallCond',\n",
              " 'RoofMatl',\n",
              " 'Exterior1st',\n",
              " 'Exterior2nd',\n",
              " 'MasVnrType',\n",
              " 'ExterCond',\n",
              " 'BsmtCond',\n",
              " 'BsmtFinType1',\n",
              " 'BsmtFinType2',\n",
              " 'BsmtFinSF2',\n",
              " 'Heating',\n",
              " 'LowQualFinSF',\n",
              " 'BsmtHalfBath',\n",
              " 'BedroomAbvGr',\n",
              " 'KitchenAbvGr',\n",
              " 'Functional',\n",
              " 'FireplaceQu',\n",
              " 'EnclosedPorch',\n",
              " '3SsnPorch',\n",
              " 'ScreenPorch',\n",
              " 'PoolArea',\n",
              " 'PoolQC',\n",
              " 'Fence',\n",
              " 'MiscFeature',\n",
              " 'MiscVal',\n",
              " 'MoSold',\n",
              " 'YrSold',\n",
              " 'SaleType']"
            ]
          },
          "metadata": {
            "tags": []
          },
          "execution_count": 109
        },
        {
          "output_type": "display_data",
          "data": {
            "image/png": "[encoded data removed]",
            "text/plain": [
              "<Figure size 432x288 with 2 Axes>"
            ]
          },
          "metadata": {
            "tags": [],
            "needs_background": "light"
          }
        }
      ]
    },
    {
      "cell_type": "code",
      "metadata": {
        "id": "CB2O955z49dR",
        "outputId": "0ba3637f-d35b-4a1c-cdde-6c75738df931",
        "colab": {
          "base_uri": "https://localhost:8080/"
        }
      },
      "source": [
        "regressor = XGBRegressor(\n",
        "    learning_rate = 0.1, n_estimators = 200, tree_method = 'hist'\n",
        ")\n",
        "regressor.fit(x_train, y_train)\n",
        "y_pred = regressor.predict(x_test)\n",
        "calc_metrics(y_pred, y_test.values)"
      ],
      "execution_count": 110,
      "outputs": [
        {
          "output_type": "stream",
          "text": [
            "[07:49:30] WARNING: /workspace/src/objective/regression_obj.cu:152: reg:linear is now deprecated in favor of reg:squarederror.\n"
          ],
          "name": "stdout"
        },
        {
          "output_type": "execute_result",
          "data": {
            "text/plain": [
              "0.15013073140050004"
            ]
          },
          "metadata": {
            "tags": []
          },
          "execution_count": 110
        }
      ]
    },
    {
      "cell_type": "code",
      "metadata": {
        "id": "C9K57Icu73Vz"
      },
      "source": [
        "submit_predictions = regressor.predict(df_test)"
      ],
      "execution_count": 127,
      "outputs": []
    },
    {
      "cell_type": "code",
      "metadata": {
        "id": "m1Rcu2lwAGG4"
      },
      "source": [
        "Ids = pd.read_csv('test.csv')['Id']\n",
        "df_submission = pd.DataFrame({\n",
        "    'Id': Ids,\n",
        "    'SalePrice': submit_predictions\n",
        "})\n",
        "df_submission.head()\n",
        "df_submission.to_csv('submission.csv', index=False)\n"
      ],
      "execution_count": 130,
      "outputs": []
    },
    {
      "cell_type": "markdown",
      "metadata": {
        "id": "taJufLStC_0_"
      },
      "source": [
        "![kaggle.png](data:image/png;base64,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)"
      ]
    }
  ]
}